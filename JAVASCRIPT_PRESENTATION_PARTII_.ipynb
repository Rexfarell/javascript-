{
 "cells": [
  {
   "cell_type": "code",
   "execution_count": 86,
   "metadata": {},
   "outputs": [
    {
     "data": {
      "application/javascript": [
       "   \n",
       "alert(\"Hello this is my JS class, the topic is Bitwise\")\n"
      ],
      "text/plain": [
       "<IPython.core.display.Javascript object>"
      ]
     },
     "metadata": {},
     "output_type": "display_data"
    }
   ],
   "source": [
    " %%javascript\n",
    "    \n",
    "alert(\"Hello this is my JS class, the topic is Bitwise\")"
   ]
  },
  {
   "cell_type": "code",
   "execution_count": null,
   "metadata": {},
   "outputs": [],
   "source": []
  },
  {
   "cell_type": "markdown",
   "metadata": {},
   "source": [
    "\n",
    "<font color='green'>*** MY NOTES FOR THE PRESENTATION***</font>\n",
    "\n",
    "<div style=\"direction:rtl\">\n",
    "    <a href=\"https://www.calculator.net/binary-calculator.html?b2dnumber1=-0101&calctype=b2d&x=26&y=14#binary2decimal\">CALCULATOR 1</a>\n",
    "</div> \n",
    "\n",
    "<div style=\"direction:ltr\">\n",
    "    <a href=\"https://www.exploringbinary.com/twos-complement-converter/\">CALCULATOR 2</a>\n",
    "</div>\n",
    "\n",
    " \n",
    "\n",
    "* **XOR** (^)(exclusive or) If both bits are 0 or both are 1 then put 0 Else put 1\n",
    "\n",
    "<font color='green'>EXAMPLE</font> <br>\n",
    "5<br>\n",
    "\n",
    "00000000000000000000000000000101<br>\n",
    "                    \n",
    "1<br>\n",
    "\t                00000000000000000000000000000001<br>\n",
    "                                                    \n",
    "5 ^ 1 <br>                \n",
    "                    00000000000000000000000000000100<br>\n",
    "\n",
    "* **NOT** (~)\n",
    "Note: This operator converts 0 bytes into 1 and vice versa\n",
    "\n",
    " 5<br>\t00000000000000000000000000000101 <br>\n",
    "~5<br>  11111111111111111111111111111010 <br>\n",
    "\n",
    "   \n",
    "* **Bitwise left shift  operator (<<)**\n",
    "Note: One or more zero bits are pushed in from the right, and the leftmost bits fall off.\n",
    "Image link:   <img src= \"https://wiki.sei.cmu.edu/confluence/download/attachments/87152418/ShiftLeft.JPG?version=1&modificationDate=1170948085000&api=v2\" width=\"500\" height=\"300\" >\n",
    "\n",
    "\n",
    "<font color='green'>EXAMPLE</font> <br> <br>\n",
    "5 << 1  <br>\n",
    "00000000000000000000000000000101<br>\n",
    "000000000000000000000000000001010<br>\n",
    "00000000000000000000000000001010<br>\n",
    "\n",
    "* **Bitwise right shift operator (>>)**\n",
    "Note:  One or more bits are pushed in from the left, and the rightmost bits fall off\n",
    "Image link: <img src= \"https://1.bp.blogspot.com/-of6-szgkM4o/VNzFb0xuAOI/AAAAAAAACfA/xCx03PM6s9E/s1600/right%2Bshift%2Boperator%2Bjava%2Bexample.png\" width=\"500\" height=\"300\">\n",
    "\n",
    "\n",
    "<font color='green'>Example</font><br>\n",
    "-5 >> 1<br>\n",
    "11111111111111111111111111111011<br>\n",
    "111111111111111111111111111111011<br>\n",
    "11111111111111111111111111111101<br>\n",
    "\n",
    "\n",
    "* **JavaScript (Zero Fill) Right Shift (>>>) (also known as unsigned)**<br>\n",
    "Note: Eliminate the rightmost bit. If the number is negative, add 1 into the leftmost position, otherwise add zero.<br>\n",
    "Image link: <img src = \"https://o7planning.org/en/12281/cache/images/i/35586733.png\" heigh= \"\" width=\"\">\n",
    "\n",
    "\n",
    "<font color='green'>EXAMPLE</font><br>\n",
    "5 >>> 1<br>\n",
    "00000000000000000000000000000101<br>\n",
    "0000000000000000000000000000010<br>\n",
    "00000000000000000000000000000010<br>\n",
    "\n",
    "\n",
    "\n",
    "<iframe width=\"560\" height=\"315\" src=\"https://www.youtube.com/embed/TqAeqncjS6s\" frameborder=\"0\" allow=\"accelerometer; autoplay; encrypted-media; gyroscope; picture-in-picture\" allowfullscreen></iframe></div>"
   ]
  },
  {
   "cell_type": "code",
   "execution_count": 87,
   "metadata": {},
   "outputs": [
    {
     "data": {
      "text/html": [
       "<iframe width=\"560\" height=\"315\" src=\"https://www.youtube.com/embed/TqAeqncjS6s\" frameborder=\"0\" allow=\"accelerometer; autoplay; encrypted-media; gyroscope; picture-in-picture\" allowfullscreen></iframe>"
      ],
      "text/plain": [
       "<IPython.core.display.HTML object>"
      ]
     },
     "execution_count": 87,
     "metadata": {},
     "output_type": "execute_result"
    }
   ],
   "source": [
    "#\n",
    "from IPython.display import HTML\n",
    "\n",
    "HTML('<iframe width=\"560\" height=\"315\" src=\"https://www.youtube.com/embed/TqAeqncjS6s\" frameborder=\"0\" allow=\"accelerometer; autoplay; encrypted-media; gyroscope; picture-in-picture\" allowfullscreen></iframe>')"
   ]
  },
  {
   "cell_type": "code",
   "execution_count": 88,
   "metadata": {},
   "outputs": [
    {
     "data": {
      "application/json": {
       "cell": {
        "!": "OSMagics",
        "HTML": "Other",
        "SVG": "Other",
        "bash": "Other",
        "capture": "ExecutionMagics",
        "cmd": "Other",
        "debug": "ExecutionMagics",
        "file": "Other",
        "html": "DisplayMagics",
        "javascript": "DisplayMagics",
        "js": "DisplayMagics",
        "latex": "DisplayMagics",
        "markdown": "DisplayMagics",
        "perl": "Other",
        "prun": "ExecutionMagics",
        "pypy": "Other",
        "python": "Other",
        "python2": "Other",
        "python3": "Other",
        "ruby": "Other",
        "script": "ScriptMagics",
        "sh": "Other",
        "svg": "DisplayMagics",
        "sx": "OSMagics",
        "system": "OSMagics",
        "time": "ExecutionMagics",
        "timeit": "ExecutionMagics",
        "writefile": "OSMagics"
       },
       "line": {
        "alias": "OSMagics",
        "alias_magic": "BasicMagics",
        "autoawait": "AsyncMagics",
        "autocall": "AutoMagics",
        "automagic": "AutoMagics",
        "autosave": "KernelMagics",
        "bookmark": "OSMagics",
        "cd": "OSMagics",
        "clear": "KernelMagics",
        "cls": "KernelMagics",
        "colors": "BasicMagics",
        "conda": "PackagingMagics",
        "config": "ConfigMagics",
        "connect_info": "KernelMagics",
        "copy": "Other",
        "ddir": "Other",
        "debug": "ExecutionMagics",
        "dhist": "OSMagics",
        "dirs": "OSMagics",
        "doctest_mode": "BasicMagics",
        "echo": "Other",
        "ed": "Other",
        "edit": "KernelMagics",
        "env": "OSMagics",
        "gui": "BasicMagics",
        "hist": "Other",
        "history": "HistoryMagics",
        "killbgscripts": "ScriptMagics",
        "ldir": "Other",
        "less": "KernelMagics",
        "load": "CodeMagics",
        "load_ext": "ExtensionMagics",
        "loadpy": "CodeMagics",
        "logoff": "LoggingMagics",
        "logon": "LoggingMagics",
        "logstart": "LoggingMagics",
        "logstate": "LoggingMagics",
        "logstop": "LoggingMagics",
        "ls": "Other",
        "lsmagic": "BasicMagics",
        "macro": "ExecutionMagics",
        "magic": "BasicMagics",
        "matplotlib": "PylabMagics",
        "mkdir": "Other",
        "more": "KernelMagics",
        "notebook": "BasicMagics",
        "page": "BasicMagics",
        "pastebin": "CodeMagics",
        "pdb": "ExecutionMagics",
        "pdef": "NamespaceMagics",
        "pdoc": "NamespaceMagics",
        "pfile": "NamespaceMagics",
        "pinfo": "NamespaceMagics",
        "pinfo2": "NamespaceMagics",
        "pip": "PackagingMagics",
        "popd": "OSMagics",
        "pprint": "BasicMagics",
        "precision": "BasicMagics",
        "prun": "ExecutionMagics",
        "psearch": "NamespaceMagics",
        "psource": "NamespaceMagics",
        "pushd": "OSMagics",
        "pwd": "OSMagics",
        "pycat": "OSMagics",
        "pylab": "PylabMagics",
        "qtconsole": "KernelMagics",
        "quickref": "BasicMagics",
        "recall": "HistoryMagics",
        "rehashx": "OSMagics",
        "reload_ext": "ExtensionMagics",
        "ren": "Other",
        "rep": "Other",
        "rerun": "HistoryMagics",
        "reset": "NamespaceMagics",
        "reset_selective": "NamespaceMagics",
        "rmdir": "Other",
        "run": "ExecutionMagics",
        "save": "CodeMagics",
        "sc": "OSMagics",
        "set_env": "OSMagics",
        "store": "StoreMagics",
        "sx": "OSMagics",
        "system": "OSMagics",
        "tb": "ExecutionMagics",
        "time": "ExecutionMagics",
        "timeit": "ExecutionMagics",
        "unalias": "OSMagics",
        "unload_ext": "ExtensionMagics",
        "who": "NamespaceMagics",
        "who_ls": "NamespaceMagics",
        "whos": "NamespaceMagics",
        "xdel": "NamespaceMagics",
        "xmode": "BasicMagics"
       }
      },
      "text/plain": [
       "Available line magics:\n",
       "%alias  %alias_magic  %autoawait  %autocall  %automagic  %autosave  %bookmark  %cd  %clear  %cls  %colors  %conda  %config  %connect_info  %copy  %ddir  %debug  %dhist  %dirs  %doctest_mode  %echo  %ed  %edit  %env  %gui  %hist  %history  %killbgscripts  %ldir  %less  %load  %load_ext  %loadpy  %logoff  %logon  %logstart  %logstate  %logstop  %ls  %lsmagic  %macro  %magic  %matplotlib  %mkdir  %more  %notebook  %page  %pastebin  %pdb  %pdef  %pdoc  %pfile  %pinfo  %pinfo2  %pip  %popd  %pprint  %precision  %prun  %psearch  %psource  %pushd  %pwd  %pycat  %pylab  %qtconsole  %quickref  %recall  %rehashx  %reload_ext  %ren  %rep  %rerun  %reset  %reset_selective  %rmdir  %run  %save  %sc  %set_env  %store  %sx  %system  %tb  %time  %timeit  %unalias  %unload_ext  %who  %who_ls  %whos  %xdel  %xmode\n",
       "\n",
       "Available cell magics:\n",
       "%%!  %%HTML  %%SVG  %%bash  %%capture  %%cmd  %%debug  %%file  %%html  %%javascript  %%js  %%latex  %%markdown  %%perl  %%prun  %%pypy  %%python  %%python2  %%python3  %%ruby  %%script  %%sh  %%svg  %%sx  %%system  %%time  %%timeit  %%writefile\n",
       "\n",
       "Automagic is ON, % prefix IS NOT needed for line magics."
      ]
     },
     "execution_count": 88,
     "metadata": {},
     "output_type": "execute_result"
    }
   ],
   "source": [
    "%lsmagic"
   ]
  },
  {
   "cell_type": "code",
   "execution_count": 89,
   "metadata": {
    "scrolled": true
   },
   "outputs": [
    {
     "data": {
      "text/html": [
       "<body>\n",
       "\n",
       "<h2>JavaScript Bitwise & </h2>\n",
       "\n",
       "<p id=\"demo\">My First Paragraph.</p>\n",
       "\n",
       "<script>\n",
       "document.getElementById(\"demo\").innerHTML = 5 & 1;\n",
       "</script>\n",
       "\n",
       "</body>\n",
       "\n",
       "<font color=\"green\" size=\"6\">  ⇖RESULTS OF THE JS OPERATIONS </font>\n"
      ],
      "text/plain": [
       "<IPython.core.display.HTML object>"
      ]
     },
     "metadata": {},
     "output_type": "display_data"
    }
   ],
   "source": [
    "%%HTML\n",
    "<body>\n",
    "\n",
    "<h2>JavaScript Bitwise & </h2>\n",
    "\n",
    "<p id=\"demo\">My First Paragraph.</p>\n",
    "\n",
    "<script>\n",
    "document.getElementById(\"demo\").innerHTML = 5 & 1;\n",
    "</script>\n",
    "\n",
    "</body>\n",
    "\n",
    "<font color=\"green\" size=\"6\">  ⇖RESULTS OF THE JS OPERATIONS </font>"
   ]
  },
  {
   "cell_type": "code",
   "execution_count": 90,
   "metadata": {},
   "outputs": [
    {
     "data": {
      "text/html": [
       "<body>\n",
       "\n",
       "<h2>JavaScript Bitwise OR</h2>\n",
       "\n",
       "<p id=\"demo\"></p>\n",
       "\n",
       "<script>\n",
       "document.getElementById(\"demo\").innerHTML = 5 | 1;\n",
       "</script>\n",
       "\n",
       "</body>\n"
      ],
      "text/plain": [
       "<IPython.core.display.HTML object>"
      ]
     },
     "metadata": {},
     "output_type": "display_data"
    }
   ],
   "source": [
    "%%HTML\n",
    "<body>\n",
    "\n",
    "<h2>JavaScript Bitwise OR</h2>\n",
    "\n",
    "<p id=\"demo\"></p>\n",
    "\n",
    "<script>\n",
    "document.getElementById(\"demo\").innerHTML = 5 | 1;\n",
    "</script>\n",
    "\n",
    "</body>"
   ]
  },
  {
   "cell_type": "code",
   "execution_count": 91,
   "metadata": {},
   "outputs": [
    {
     "data": {
      "text/html": [
       "<body>\n",
       "\n",
       "<h2>JavaScript Bitwise XOR</h2>\n",
       "\n",
       "<p id=\"demo\"></p>\n",
       "\n",
       "<script>\n",
       "document.getElementById(\"demo\").innerHTML = 5 ^ 1;\n",
       "</script>\n",
       "\n",
       "</body>\n"
      ],
      "text/plain": [
       "<IPython.core.display.HTML object>"
      ]
     },
     "metadata": {},
     "output_type": "display_data"
    }
   ],
   "source": [
    "%%HTML\n",
    "<body>\n",
    "\n",
    "<h2>JavaScript Bitwise XOR</h2>\n",
    "\n",
    "<p id=\"demo\"></p>\n",
    "\n",
    "<script>\n",
    "document.getElementById(\"demo\").innerHTML = 5 ^ 1;\n",
    "</script>\n",
    "\n",
    "</body>"
   ]
  },
  {
   "cell_type": "code",
   "execution_count": 92,
   "metadata": {},
   "outputs": [
    {
     "data": {
      "text/html": [
       "<body>\n",
       "\n",
       "<h2>JavaScript Bitwise NOT</h2>\n",
       "\n",
       "<p id=\"demo\"></p>\n",
       "\n",
       "<script>\n",
       "document.getElementById(\"demo\").innerHTML = ~ 5;\n",
       "</script>\n",
       "\n",
       "</body>\n"
      ],
      "text/plain": [
       "<IPython.core.display.HTML object>"
      ]
     },
     "metadata": {},
     "output_type": "display_data"
    }
   ],
   "source": [
    "%%HTML\n",
    "<body>\n",
    "\n",
    "<h2>JavaScript Bitwise NOT</h2>\n",
    "\n",
    "<p id=\"demo\"></p>\n",
    "\n",
    "<script>\n",
    "document.getElementById(\"demo\").innerHTML = ~ 5;\n",
    "</script>\n",
    "\n",
    "</body>"
   ]
  },
  {
   "cell_type": "code",
   "execution_count": 93,
   "metadata": {},
   "outputs": [
    {
     "data": {
      "text/html": [
       "<body>\n",
       "\n",
       "<h2>JavaScript Bitwise Left</h2>\n",
       "\n",
       "<p id=\"demo\"></p>\n",
       "\n",
       "<script>\n",
       "document.getElementById(\"demo\").innerHTML = 5 << 1;\n",
       "</script>\n",
       "\n",
       "</body>\n"
      ],
      "text/plain": [
       "<IPython.core.display.HTML object>"
      ]
     },
     "metadata": {},
     "output_type": "display_data"
    }
   ],
   "source": [
    "%%HTML\n",
    "<body>\n",
    "\n",
    "<h2>JavaScript Bitwise Left</h2>\n",
    "\n",
    "<p id=\"demo\"></p>\n",
    "\n",
    "<script>\n",
    "document.getElementById(\"demo\").innerHTML = 5 << 1;\n",
    "</script>\n",
    "\n",
    "</body>"
   ]
  },
  {
   "cell_type": "code",
   "execution_count": 94,
   "metadata": {},
   "outputs": [
    {
     "data": {
      "text/html": [
       "<body>\n",
       "\n",
       "<h2>JavaScript Sign Preserving Bitwise Right.</h2>\n",
       "\n",
       "<p id=\"demo\"></p>\n",
       "\n",
       "<script>\n",
       "document.getElementById(\"demo\").innerHTML = -5 >> 1;\n",
       "</script>\n",
       "\n",
       "</body>\n"
      ],
      "text/plain": [
       "<IPython.core.display.HTML object>"
      ]
     },
     "metadata": {},
     "output_type": "display_data"
    }
   ],
   "source": [
    "%%HTML\n",
    "<body>\n",
    "\n",
    "<h2>JavaScript Sign Preserving Bitwise Right.</h2>\n",
    "\n",
    "<p id=\"demo\"></p>\n",
    "\n",
    "<script>\n",
    "document.getElementById(\"demo\").innerHTML = -5 >> 1;\n",
    "</script>\n",
    "\n",
    "</body>"
   ]
  },
  {
   "cell_type": "code",
   "execution_count": 95,
   "metadata": {},
   "outputs": [
    {
     "data": {
      "text/html": [
       "<body>\n",
       "\n",
       "<h2>JavaScript Bitwise Right</h2>\n",
       "\n",
       "<p id=\"demo\"></p>\n",
       "\n",
       "<script>\n",
       "document.getElementById(\"demo\").innerHTML = 5 >>> 1;\n",
       "</script>\n",
       "\n",
       "</body>\n"
      ],
      "text/plain": [
       "<IPython.core.display.HTML object>"
      ]
     },
     "metadata": {},
     "output_type": "display_data"
    }
   ],
   "source": [
    "%%HTML\n",
    "<body>\n",
    "\n",
    "<h2>JavaScript Bitwise Right</h2>\n",
    "\n",
    "<p id=\"demo\"></p>\n",
    "\n",
    "<script>\n",
    "document.getElementById(\"demo\").innerHTML = 5 >>> 1;\n",
    "</script>\n",
    "\n",
    "</body>"
   ]
  },
  {
   "cell_type": "code",
   "execution_count": 96,
   "metadata": {},
   "outputs": [
    {
     "data": {
      "text/html": [
       "<body>\n",
       "\n",
       "<h2>JavaScript Convert Decimal to Binary</h2>\n",
       "\n",
       "<p id=\"demo\"></p>\n",
       "\n",
       "<script>\n",
       "document.getElementById(\"demo\").innerHTML = dec2bin(-5);\n",
       "function dec2bin(dec){\n",
       "  return (dec >>> 0).toString(2);\n",
       "}\n",
       "</script>\n",
       "\n",
       "</body>\n"
      ],
      "text/plain": [
       "<IPython.core.display.HTML object>"
      ]
     },
     "metadata": {},
     "output_type": "display_data"
    }
   ],
   "source": [
    "%%HTML\n",
    "<body>\n",
    "\n",
    "<h2>JavaScript Convert Decimal to Binary</h2>\n",
    "\n",
    "<p id=\"demo\"></p>\n",
    "\n",
    "<script>\n",
    "document.getElementById(\"demo\").innerHTML = dec2bin(-5);\n",
    "function dec2bin(dec){\n",
    "  return (dec >>> 0).toString(2);\n",
    "}\n",
    "</script>\n",
    "\n",
    "</body>"
   ]
  }
 ],
 "metadata": {
  "kernelspec": {
   "display_name": "Python 3",
   "language": "python",
   "name": "python3"
  },
  "language_info": {
   "codemirror_mode": {
    "name": "ipython",
    "version": 3
   },
   "file_extension": ".py",
   "mimetype": "text/x-python",
   "name": "python",
   "nbconvert_exporter": "python",
   "pygments_lexer": "ipython3",
   "version": "3.7.5"
  }
 },
 "nbformat": 4,
 "nbformat_minor": 2
}
